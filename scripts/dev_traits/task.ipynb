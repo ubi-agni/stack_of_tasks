{
 "cells": [
  {
   "cell_type": "code",
   "execution_count": 9,
   "metadata": {},
   "outputs": [
    {
     "data": {
      "text/plain": [
       "(array([[-1., -0., -0., -0., -0.],\n",
       "        [-0., -1., -0., -0., -0.],\n",
       "        [-0., -0., -1., -0., -0.]]),\n",
       " array([0., 0., 0.]))"
      ]
     },
     "execution_count": 9,
     "metadata": {},
     "output_type": "execute_result"
    }
   ],
   "source": [
    "from tasks import PositionTask, TaskSoftnessType\n",
    "\n",
    "from ref import DummyJacobian, Offset, World\n",
    "import numpy as np\n",
    "\n",
    "import traits.api as ta\n",
    "\n",
    "class DummyJacobian(World.__class__):\n",
    "    J = ta.Array(value=np.identity(5))\n",
    "\n",
    "r1 = World()\n",
    "r2 = World()\n",
    "\n",
    "j1 = DummyJacobian()\n",
    "j2 = DummyJacobian()\n",
    "\n",
    "o1 = Offset(j1)\n",
    "\n",
    "x = PositionTask(refA=o1, refB=j2, softnessType=TaskSoftnessType.linear)\n",
    "x.compute()"
   ]
  }
 ],
 "metadata": {
  "kernelspec": {
   "display_name": "Python 3",
   "language": "python",
   "name": "python3"
  },
  "language_info": {
   "codemirror_mode": {
    "name": "ipython",
    "version": 3
   },
   "file_extension": ".py",
   "mimetype": "text/x-python",
   "name": "python",
   "nbconvert_exporter": "python",
   "pygments_lexer": "ipython3",
   "version": "3.8.10"
  },
  "orig_nbformat": 4
 },
 "nbformat": 4,
 "nbformat_minor": 2
}
